{
 "cells": [
  {
   "cell_type": "markdown",
   "metadata": {},
   "source": [
    "# Timing comparisons between pandas.merge, pandas.DataFrame.merge, and pandas.DataFrame.__init__\n",
    "*Eric Nordstrom* | *eanord4@gmail.com*\n",
    "\n",
    "### Study of full outer joins varying\n",
    "* data frame length\n",
    "* number of *NaN*s"
   ]
  },
  {
   "cell_type": "markdown",
   "metadata": {},
   "source": [
    "## Cases\n",
    "* length = 10, 10<sup>2</sup>, 10<sup>4</sup>, 10<sup>7</sup>, 10<sup>9</sup>\n",
    "    * *This is length of the **starting** data frames, not the final/merged frame. This is (half) the number of values to be iterated over.*\n",
    "* number of NaNs = 10%, 30%, 50%, 80% (balanced between left and right); 50% with most on one side"
   ]
  },
  {
   "cell_type": "code",
   "execution_count": 1,
   "metadata": {},
   "outputs": [],
   "source": [
    "# Dependencies\n",
    "from timeit import timeit\n",
    "import random as rm\n",
    "import pandas as pd"
   ]
  },
  {
   "cell_type": "code",
   "execution_count": 5,
   "metadata": {},
   "outputs": [],
   "source": [
    "# Define useful functions\n",
    "\n",
    "def data(L):\n",
    "    '''generate two lists of length `L`'''\n",
    "    return [rm.random() for i in range(L)], [rm.random() for i in range(L)]\n",
    "\n",
    "def indices(L, nan_pct):\n",
    "    '''generate indices for the two lists, accounting for the desired number of NaN values'''\n",
    "    \n",
    "    n_nan = nan_pct / 100 * L"
   ]
  },
  {
   "cell_type": "markdown",
   "metadata": {},
   "source": [
    "## Using length = 10"
   ]
  },
  {
   "cell_type": "code",
   "execution_count": 6,
   "metadata": {},
   "outputs": [
    {
     "data": {
      "text/plain": [
       "([0.092154673958183,\n",
       "  0.3643937690737825,\n",
       "  0.29362445191614495,\n",
       "  0.04857703458051388,\n",
       "  0.1618610163245925,\n",
       "  0.8549551775139932,\n",
       "  0.054605308421581844,\n",
       "  0.013822211401695594,\n",
       "  0.23795613041660335,\n",
       "  0.8474148692238569],\n",
       " [0.11141266021995389,\n",
       "  0.3606547248642461,\n",
       "  0.9234633900351042,\n",
       "  0.9726333396513176,\n",
       "  0.27937717413519425,\n",
       "  0.4010068122162931,\n",
       "  0.9126231639196194,\n",
       "  0.21855164615486167,\n",
       "  0.08421266650620685,\n",
       "  0.6677259663159334])"
      ]
     },
     "execution_count": 6,
     "metadata": {},
     "output_type": "execute_result"
    }
   ],
   "source": [
    "# generate data\n",
    "data1, data2 = data(10)\n",
    "\n",
    "# display sample data\n",
    "data1, data2"
   ]
  },
  {
   "cell_type": "code",
   "execution_count": null,
   "metadata": {},
   "outputs": [],
   "source": [
    "# generate indices\n"
   ]
  }
 ],
 "metadata": {
  "kernelspec": {
   "display_name": "EAN general kernel spec",
   "language": "python",
   "name": "gen-kernelspec"
  },
  "language_info": {
   "codemirror_mode": {
    "name": "ipython",
    "version": 3
   },
   "file_extension": ".py",
   "mimetype": "text/x-python",
   "name": "python",
   "nbconvert_exporter": "python",
   "pygments_lexer": "ipython3",
   "version": "3.6.4"
  }
 },
 "nbformat": 4,
 "nbformat_minor": 2
}
