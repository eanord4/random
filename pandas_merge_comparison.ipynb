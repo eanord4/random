{
 "cells": [
  {
   "cell_type": "markdown",
   "metadata": {},
   "source": [
    "# Study of Full Outer Joins in *pandas*\n",
    "*Eric Nordstrom* | *eanord4@gmail.com*  \n",
    "*December 13th, 2019*"
   ]
  },
  {
   "cell_type": "markdown",
   "metadata": {},
   "source": [
    "## Objective\n",
    "\n",
    "I recently found that, in addition to the standard *pd.merge* and *pd.DataFrame.merge* functions, *pandas* provides at least one other way to perform a full outer join, which is to create a *pd.DataFrame* instance and feed it *pd.Series* instances as data (see **Introduction**).\n",
    "\n",
    "This experiment aims to determine the relative speed and scaling between these three ways of joining with *pandas*. The experiment also aims to find how null values affect the speed of joining."
   ]
  },
  {
   "cell_type": "markdown",
   "metadata": {},
   "source": [
    "## Introduction\n",
    "\n",
    "The *pandas* Python module has multiple ways of performing joins between datasets.\n",
    "\n",
    "1. ***pandas.merge*** is a function taking inputs of two *pandas.DataFrame* instances (datasets) in addition to parameters specifying the type of join, the column(s) on which to join, etc.\n",
    "\n",
    "2. ***pandas.DataFrame.merge*** is a method of the *pandas.DataFrame* class which considers the instance whose *merge* method was called as the **left** dataset and an input data frame as the **right** dataset. Additional parameters are used similarly to *pandas.merge*. This method likely works in the same way as *pandas.merge*, but this was not confirmed before the experiment.\n",
    "\n",
    "3. Creating a new data frame by calling the ***pandas.DataFrame*** class (thereby calling its *\\__init\\__* method) also performs a full outer join if *pandas.Series* instances are provided as columns. The join in this case is assumed to be on the indices of the series provided as illustrated in the following example:\n",
    "\n",
    "```\n",
    "In:  pd.DataFrame({\n",
    "         'A': pd.Series([1,2,3], index=[1,2,3]),\n",
    "         'B': pd.Series(['a', 'b', 'c'], index=[2, 5, 9])\n",
    "     })\n",
    "\n",
    "Out:      A    B\n",
    "     1  1.0  NaN\n",
    "     2  2.0    a\n",
    "     3  3.0  NaN\n",
    "     5  NaN    b\n",
    "     9  NaN    c\n",
    "```"
   ]
  },
  {
   "cell_type": "markdown",
   "metadata": {},
   "source": [
    "## Methods\n",
    "\n",
    "First, functions were defined to systematize the creation of datasets and the way joins were performed. Example datasets and joins are displayed after the function definitions.\n",
    "\n",
    "Next, experimental data were collected under each case described below. For each case, three trials were performed and recorded.\n",
    "\n",
    "Once collected, all trials were and analyzed using *pandas* plotting methods.\n",
    "\n",
    "### Variables\n",
    "* data frame length\n",
    "* number of null values (resulting from unshared rows)\n",
    "\n",
    "### Cases\n",
    "* length ($L$) = 10, 10<sup>2</sup>, 10<sup>4</sup>, 10<sup>7</sup>, 10<sup>11</sup>\n",
    "    * *It is not yet clear which \"length\" is related to the time required for the join. See notes below.*\n",
    "* number of unshared rows (resulting in null values) ($n$) = 10%, 30%, 50%, 80%\n",
    "* join method \n",
    "\n",
    "### Dependencies\n",
    "The following Python packages were used:\n",
    "* *pandas* 0.25.3\n",
    "* *random*\n",
    "* *timeit*"
   ]
  },
  {
   "cell_type": "markdown",
   "metadata": {},
   "source": [
    "## Notes\n",
    "### Notes about joins\n",
    "Each join will be performed on two similar datasets of the same length. Values will be randomly selected **float**s between 0 and 1. Each dataset will consist of a single column of values and a set of integer indices upon which to perform the join. Each join will be a full outer join on the indices.\n",
    "### Notes about the \"length\" variable\n",
    "It is not yet clear which \"length\" is related to the time required to join datasets. This would depend on the exact algorithm being used to compare indices. However, a reasonable algorithm for a full outer join might be like the following:\n",
    "1. Iterate over the left indices. For each index, check if it is present in the right dataset.\n",
    "    * If it is, include it in the resulting data frame. **Note to ignore this row when iterating over the right dataset.**\n",
    "    * If it is not, place a NaN value in the column representing the right dataset.\n",
    "2. Iterate over the right indices. **Skip previously used rows.** \n",
    "    * The remaining rows cannot be present in the left dataset since it was already iterated over. Therefore, for each row, place a *NaN* value in the colum representing the left dataset.\n",
    "\n",
    "Using this algorithm as the hypothesis, the time required for joining should scale as\n",
    "\n",
    "$\n",
    "O[a(L_\\text{left}-n_\\text{left}+L_\\text{right}-n_\\text{right}) + b(n_\\text{left}+n_\\text{right})]\\\\\n",
    "=O[a(L_\\text{left}+L_\\text{right}) + (b-a)(N_\\text{left}+N_\\text{right})]\n",
    "$\n",
    "\n",
    "where $L_\\text{[side]}$ is the length of the original dataset and $N_\\text{[side]}$ is the number of null values resulting on the given side. Constants $a$ and $b$ are unknown and represent the fact that shared indices and unshared indices might require different amounts of time to handle. Using $L$ as the single original dataset length and $n$ as the fraction of rows which are unshared, the expression becomes\n",
    "\n",
    "$ O[a(2L) + (a-b)(2nL)] $\n",
    "\n",
    "or\n",
    "\n",
    "(1) $\\qquad O[(\\alpha + \\beta n)L]$,\n",
    "\n",
    "where $\\alpha$ and $\\beta$ are unknown constants and the sign of $\\beta$ informs whether the join is sped up or slowed down by null values. From here, a linear model of the timing can be created as follows:\n",
    "\n",
    "(2) $\\qquad \\hat{t}(L) = t_0 + \\hat{m}L$,\n",
    "\n",
    "where $\\hat{m}$ itself is modeled linearly as follows:\n",
    "\n",
    "(3) $\\qquad \\hat{m}(n) = \\alpha + \\beta n$\n",
    "\n",
    "### Notes about statistical methods\n",
    "\n",
    "*At this time, it is not known which statistical methods are appropriate to calculate the above models in a way that reflects their influence on each other. This will be researched after data is gathered.*"
   ]
  },
  {
   "cell_type": "markdown",
   "metadata": {},
   "source": [
    "## Procedure"
   ]
  },
  {
   "cell_type": "markdown",
   "metadata": {},
   "source": [
    "#### Import dependencies"
   ]
  },
  {
   "cell_type": "code",
   "execution_count": 1,
   "metadata": {},
   "outputs": [],
   "source": [
    "from timeit import timeit\n",
    "import random as rm\n",
    "import pandas as pd"
   ]
  },
  {
   "cell_type": "markdown",
   "metadata": {},
   "source": [
    "#### Define useful functions to produce datasets and joins"
   ]
  },
  {
   "cell_type": "code",
   "execution_count": 2,
   "metadata": {},
   "outputs": [],
   "source": [
    "def pd_merge(left_series, right_series):\n",
    "    '''merge the datasets using `pd.merge`'''\n",
    "    \n",
    "    return pd.merge(left_series, right_series, how='outer', left_index=True, right_index=True)\n",
    "\n",
    "def df_merge(left_df, right_series):\n",
    "    '''merge the datasets using `pd.DataFrame.merge`; requires left dataset to be a data frame'''\n",
    "    \n",
    "    return left_df.merge(right_series, how='outer', left_index=True, right_index=True)\n",
    "\n",
    "def init_join(left_series, right_series):\n",
    "    '''merge the datasets by calling `pd.DataFrame`'''\n",
    "    \n",
    "    return pd.DataFrame({'LEFT': left_series, 'RIGHT': right_series})\n",
    "\n",
    "def datasets(L, n):\n",
    "    '''generate two series of the specified length and unshared fraction of rows'''\n",
    "    \n",
    "    N_unshared = int(n * L)  # number of unshared rows in each dataset. The total number of null values after joining will be double.\n",
    "    length_range = range(L)\n",
    "    all_indices = range(L + N_unshared)\n",
    "    \n",
    "    # get values\n",
    "    left_data = [rm.random() for i in length_range]\n",
    "    right_data = [rm.random() for i in length_range]\n",
    "    \n",
    "    # get left indices\n",
    "    left_indices = sorted(rm.sample(all_indices, L))\n",
    "    remaining = set(all_indices).difference(left_indices)\n",
    "    \n",
    "    # get right indices\n",
    "    right_indices = rm.sample(left_indices, L - N_unshared)  # shared indices\n",
    "    right_indices += rm.sample(remaining, N_unshared)  # unshared indices\n",
    "    right_indices = sorted(right_indices)  # order of shared and unshared will be random\n",
    "    \n",
    "    # construct datasets as series\n",
    "    left_series = pd.Series(left_data, index=left_indices, name='LEFT')\n",
    "    right_series = pd.Series(right_data, index=right_indices, name='RIGHT')\n",
    "    \n",
    "    return left_series, right_series"
   ]
  },
  {
   "cell_type": "markdown",
   "metadata": {},
   "source": [
    "#### Test the functions; display example datasets and join results"
   ]
  },
  {
   "cell_type": "code",
   "execution_count": 3,
   "metadata": {},
   "outputs": [
    {
     "name": "stdout",
     "output_type": "stream",
     "text": [
      "** Left Example **\n",
      "------------------------\n",
      "1     0.662601\n",
      "2     0.023784\n",
      "3     0.442068\n",
      "4     0.757046\n",
      "6     0.939661\n",
      "8     0.064824\n",
      "9     0.608298\n",
      "10    0.463203\n",
      "12    0.706573\n",
      "14    0.656467\n",
      "Name: LEFT, dtype: float64\n",
      "\n",
      "** Right Example **\n",
      "------------------------\n",
      "0     0.284811\n",
      "1     0.462688\n",
      "5     0.758086\n",
      "7     0.051532\n",
      "8     0.498499\n",
      "9     0.783367\n",
      "11    0.017342\n",
      "12    0.815860\n",
      "13    0.341990\n",
      "14    0.057858\n",
      "Name: RIGHT, dtype: float64\n"
     ]
    }
   ],
   "source": [
    "# Datasets\n",
    "\n",
    "left_example, right_example = datasets(10, .5)\n",
    "\n",
    "print('** Left Example **')\n",
    "print('------------------------')\n",
    "print(left_example)\n",
    "print()\n",
    "\n",
    "print('** Right Example **')\n",
    "print('------------------------')\n",
    "print(right_example)"
   ]
  },
  {
   "cell_type": "code",
   "execution_count": 7,
   "metadata": {},
   "outputs": [
    {
     "name": "stdout",
     "output_type": "stream",
     "text": [
      "** Join Example: L=10, n=10% **\n",
      "-------------------------------\n",
      "        LEFT     RIGHT\n",
      "0        NaN  0.284811\n",
      "1   0.662601  0.462688\n",
      "2   0.023784       NaN\n",
      "3   0.442068       NaN\n",
      "4   0.757046       NaN\n",
      "5        NaN  0.758086\n",
      "6   0.939661       NaN\n",
      "7        NaN  0.051532\n",
      "8   0.064824  0.498499\n",
      "9   0.608298  0.783367\n",
      "10  0.463203       NaN\n",
      "11       NaN  0.017342\n",
      "12  0.706573  0.815860\n",
      "13       NaN  0.341990\n",
      "14  0.656467  0.057858\n",
      "\n"
     ]
    }
   ],
   "source": [
    "# Join\n",
    "\n",
    "pd_merge_result = pd_merge(left_example, right_example)\n",
    "print('** Join Example: L=10, n=10% **')\n",
    "print('-------------------------------')\n",
    "print(pd_merge_result)\n",
    "print()"
   ]
  },
  {
   "cell_type": "code",
   "execution_count": 5,
   "metadata": {},
   "outputs": [
    {
     "name": "stdout",
     "output_type": "stream",
     "text": [
      "`pd.merge` result same as `pd.DataFrame.merge`?\n",
      "---------------------------------------------------\n",
      "True\n",
      "\n",
      "`pd.merge` result same as `pd.DataFrame.__init__`?\n",
      "---------------------------------------------------\n",
      "True\n"
     ]
    }
   ],
   "source": [
    "# Show that all ways of joining yield the same result\n",
    "\n",
    "print('`pd.merge` result same as `pd.DataFrame.merge`?')\n",
    "print('---------------------------------------------------')\n",
    "print(all( pd_merge_result == df_merge(left_example.to_frame(), right_example) ))\n",
    "print()\n",
    "\n",
    "print('`pd.merge` result same as `pd.DataFrame.__init__`?')\n",
    "print('---------------------------------------------------')\n",
    "print(all( pd_merge_result == init_join(left_example, right_example) ))"
   ]
  },
  {
   "cell_type": "markdown",
   "metadata": {},
   "source": [
    "#### Initialize experimental data"
   ]
  },
  {
   "cell_type": "code",
   "execution_count": 6,
   "metadata": {},
   "outputs": [
    {
     "data": {
      "text/html": [
       "<div>\n",
       "<style scoped>\n",
       "    .dataframe tbody tr th:only-of-type {\n",
       "        vertical-align: middle;\n",
       "    }\n",
       "\n",
       "    .dataframe tbody tr th {\n",
       "        vertical-align: top;\n",
       "    }\n",
       "\n",
       "    .dataframe thead th {\n",
       "        text-align: right;\n",
       "    }\n",
       "</style>\n",
       "<table border=\"1\" class=\"dataframe\">\n",
       "  <thead>\n",
       "    <tr style=\"text-align: right;\">\n",
       "      <th></th>\n",
       "      <th></th>\n",
       "      <th></th>\n",
       "      <th>pd.merge</th>\n",
       "      <th>pd.DataFrame.merge</th>\n",
       "      <th>pd.DataFrame.__init__</th>\n",
       "    </tr>\n",
       "    <tr>\n",
       "      <th>L</th>\n",
       "      <th>n</th>\n",
       "      <th>Trial</th>\n",
       "      <th></th>\n",
       "      <th></th>\n",
       "      <th></th>\n",
       "    </tr>\n",
       "  </thead>\n",
       "  <tbody>\n",
       "    <tr>\n",
       "      <th rowspan=\"5\" valign=\"top\">10</th>\n",
       "      <th rowspan=\"3\" valign=\"top\">0.1</th>\n",
       "      <th>0</th>\n",
       "      <td>NaN</td>\n",
       "      <td>NaN</td>\n",
       "      <td>NaN</td>\n",
       "    </tr>\n",
       "    <tr>\n",
       "      <th>1</th>\n",
       "      <td>NaN</td>\n",
       "      <td>NaN</td>\n",
       "      <td>NaN</td>\n",
       "    </tr>\n",
       "    <tr>\n",
       "      <th>2</th>\n",
       "      <td>NaN</td>\n",
       "      <td>NaN</td>\n",
       "      <td>NaN</td>\n",
       "    </tr>\n",
       "    <tr>\n",
       "      <th rowspan=\"2\" valign=\"top\">0.3</th>\n",
       "      <th>0</th>\n",
       "      <td>NaN</td>\n",
       "      <td>NaN</td>\n",
       "      <td>NaN</td>\n",
       "    </tr>\n",
       "    <tr>\n",
       "      <th>1</th>\n",
       "      <td>NaN</td>\n",
       "      <td>NaN</td>\n",
       "      <td>NaN</td>\n",
       "    </tr>\n",
       "  </tbody>\n",
       "</table>\n",
       "</div>"
      ],
      "text/plain": [
       "             pd.merge pd.DataFrame.merge pd.DataFrame.__init__\n",
       "L  n   Trial                                                  \n",
       "10 0.1 0          NaN                NaN                   NaN\n",
       "       1          NaN                NaN                   NaN\n",
       "       2          NaN                NaN                   NaN\n",
       "   0.3 0          NaN                NaN                   NaN\n",
       "       1          NaN                NaN                   NaN"
      ]
     },
     "execution_count": 6,
     "metadata": {},
     "output_type": "execute_result"
    }
   ],
   "source": [
    "# Cases to be tried\n",
    "L_cases = [10, 10 ** 2, 10 ** 4, 10 ** 7, 10 ** 11]\n",
    "n_cases = [.1, .3, .5, .8]\n",
    "join_cases = ['pd.merge', 'pd.DataFrame.merge', 'pd.DataFrame.__init__']\n",
    "join_funcs = [pd_merge, df_merge, init_join]\n",
    "num_trials = 3\n",
    "\n",
    "# Initialize\n",
    "times = pd.DataFrame(\n",
    "    \n",
    "    columns=join_cases,\n",
    "    \n",
    "    index=pd.MultiIndex.from_product(\n",
    "        [L_cases, n_cases, range(num_trials)],\n",
    "        names=['L', 'n', 'Trial']\n",
    "    )\n",
    "\n",
    ")\n",
    "\n",
    "# Show structure of data to be collected\n",
    "times.head()"
   ]
  },
  {
   "cell_type": "markdown",
   "metadata": {},
   "source": [
    "#### Create datasets and perform joins"
   ]
  },
  {
   "cell_type": "code",
   "execution_count": null,
   "metadata": {},
   "outputs": [],
   "source": []
  }
 ],
 "metadata": {
  "kernelspec": {
   "display_name": "EAN general kernel spec",
   "language": "python",
   "name": "gen-kernelspec"
  },
  "language_info": {
   "codemirror_mode": {
    "name": "ipython",
    "version": 3
   },
   "file_extension": ".py",
   "mimetype": "text/x-python",
   "name": "python",
   "nbconvert_exporter": "python",
   "pygments_lexer": "ipython3",
   "version": "3.6.4"
  }
 },
 "nbformat": 4,
 "nbformat_minor": 2
}
